{
 "cells": [
  {
   "cell_type": "markdown",
   "id": "c87bc264",
   "metadata": {},
   "source": [
    "> Projeto Desenvolve <br>\n",
    "Programação Intermediária com Python <br>\n",
    "Profa. Camila Laranjeira (mila@projetodesenvolve.com.br) <br>\n",
    "\n",
    "# 1.1 - Recursividade"
   ]
  },
  {
   "cell_type": "markdown",
   "id": "02e47197",
   "metadata": {},
   "source": [
    "## Exercícios:\n",
    "\n",
    "#### **Q1**. \n",
    "Faça um procedimento recursivo que receba dois valores inteiros `a` e `b` e imprime o intervalo fechado entre eles. Se `a > b` imprima uma mensagem de erro.\n",
    "\n",
    "| Entrada |  Saída |\n",
    "| ------- | ------ |\n",
    "| 1 10    | 1 2 3 4 5 6 7 8 9 10 |\n",
    "| -5 1    | -5 -4 -3 -2 -1 |\n",
    "| 5 -5    | Valores invalidos |\n",
    "| 17 20   | 17 18 19 20 |"
   ]
  },
  {
   "cell_type": "code",
   "execution_count": 7,
   "id": "e89a9966",
   "metadata": {},
   "outputs": [
    {
     "name": "stdout",
     "output_type": "stream",
     "text": [
      "Por favor, digite apenas números inteiros.\n"
     ]
    }
   ],
   "source": [
    "def imprimir_intervalo(a, b):\n",
    "    if a > b:\n",
    "        print(\"Erro: o valor de 'a' não pode ser maior que o valor de 'b'.\")\n",
    "        return\n",
    "    elif a == b:\n",
    "        print(a)\n",
    "    else:\n",
    "        print(a)\n",
    "        imprimir_intervalo(a + 1, b)\n",
    "\n",
    "# Parte principal do programa\n",
    "try:\n",
    "    a = int(input(\"Digite o valor de a: \"))\n",
    "    b = int(input(\"Digite o valor de b: \"))\n",
    "    imprimir_intervalo(a, b)\n",
    "except ValueError:\n",
    "    print(\"Por favor, digite apenas números inteiros.\")\n",
    "\n",
    "\n"
   ]
  },
  {
   "cell_type": "markdown",
   "id": "b48196ed",
   "metadata": {},
   "source": [
    "---\n",
    "\n",
    "\n",
    "#### **Q2**. \n",
    "Mudando **apenas uma linha**, altere o código anterior para imprimir o intervalo invertido.\n",
    "\n",
    "| Entrada |  Saída |\n",
    "| ------- | ------ |\n",
    "| 1 10    | 10 9 8 7 6 5 4 3 2 1 |\n",
    "| -5 1    | -1 -2 -3 -4 -5 |\n",
    "| 5 -5    | Valores invalidos |\n",
    "| 17 20   | 20 19 18 17 |"
   ]
  },
  {
   "cell_type": "code",
   "execution_count": 8,
   "id": "4d0c21b4",
   "metadata": {},
   "outputs": [
    {
     "name": "stdout",
     "output_type": "stream",
     "text": [
      "11\n",
      "10\n",
      "9\n",
      "8\n",
      "7\n",
      "6\n",
      "5\n"
     ]
    }
   ],
   "source": [
    "def imprimir_intervalo(a, b):\n",
    "    if a < b:\n",
    "        print(b)\n",
    "        imprimir_intervalo(a, b - 1)  # <-- LINHA ALTERADA\n",
    "    elif a == b:\n",
    "        print(a)\n",
    "    else:\n",
    "        print(\"Erro: o valor de 'a' não pode ser menor que o valor de 'b'.\")\n",
    "\n",
    "# Parte principal do programa\n",
    "try:\n",
    "    a = int(input(\"Digite o valor de a: \"))\n",
    "    b = int(input(\"Digite o valor de b: \"))\n",
    "    imprimir_intervalo(a, b)\n",
    "except ValueError:\n",
    "    print(\"Por favor, digite apenas números inteiros.\")\n"
   ]
  },
  {
   "cell_type": "markdown",
   "id": "be727074",
   "metadata": {},
   "source": [
    "\n",
    "\n",
    "---\n",
    "\n",
    "\n",
    "#### **Q3**. \n",
    "Escreva uma função recursiva que recebe um inteiro `n > 1` e calcula a soma dos valores entre `n` e `1`.\n",
    "\n",
    "| Entrada |  Saída |\n",
    "| ------- | ------ |\n",
    "| 5   | 15 |\n",
    "| 13  | 78 |"
   ]
  },
  {
   "cell_type": "code",
   "execution_count": 12,
   "id": "c4da98b8",
   "metadata": {},
   "outputs": [
    {
     "name": "stdout",
     "output_type": "stream",
     "text": [
      "A soma de 2 até 1 é: 3\n",
      "Erro: por favor, digite um número inteiro válido.\n"
     ]
    }
   ],
   "source": [
    "def soma_recursiva(n):\n",
    "    if n <= 1:\n",
    "        return 1\n",
    "    else:\n",
    "        return n + soma_recursiva(n - 1)\n",
    "\n",
    "# Exemplo de uso:\n",
    "n = int(input(\"Digite um número inteiro maior que 1: \"))\n",
    "if n > 1:\n",
    "    resultado = soma_recursiva(n)\n",
    "    print(f\"A soma de {n} até 1 é:\", resultado)\n",
    "else:\n",
    "    print(\"Erro: o número deve ser maior que 1.\")\n",
    "\n",
    "try:\n",
    "    n = int(input(\"Digite um número inteiro maior que 1: \"))\n",
    "    if n > 1:\n",
    "        resultado = soma_recursiva(n)\n",
    "        print(f\"A soma de {n} até 1 é: {resultado}\")\n",
    "    else:\n",
    "        print(\"Erro: o número deve ser maior que 1.\")\n",
    "except ValueError:\n",
    "    print(\"Erro: por favor, digite um número inteiro válido.\")\n"
   ]
  },
  {
   "cell_type": "markdown",
   "id": "4142b276",
   "metadata": {},
   "source": [
    "\n",
    "\n",
    "---\n",
    "\n",
    "\n",
    "#### **Q4**.  \n",
    "\n",
    "Escreva uma função recursiva que recebe um inteiro `n` e verifica se `n`é um valor primo, ou seja, se é divisível apenas por si mesmo e por `1`."
   ]
  },
  {
   "cell_type": "code",
   "execution_count": null,
   "id": "4c96eb2d",
   "metadata": {},
   "outputs": [],
   "source": [
    "def eh_primo(n, divisor=2):\n",
    "    if n < 2:\n",
    "        return False\n",
    "    if divisor > n // 2:\n",
    "        return True\n",
    "    if n % divisor == 0:\n",
    "        return False\n",
    "    return eh_primo(n, divisor + 1)\n",
    "\n",
    "# Parte principal do programa\n",
    "try:\n",
    "    n = int(input(\"Digite um número inteiro: \"))\n",
    "    if eh_primo(n):\n",
    "        print(f\"{n} é um número primo.\")\n",
    "    else:\n",
    "        print(f\"{n} não é um número primo.\")\n",
    "except ValueError:\n",
    "    print(\"Erro: por favor, digite um número inteiro válido.\")\n"
   ]
  },
  {
   "cell_type": "markdown",
   "id": "2a0ae81c",
   "metadata": {},
   "source": [
    "\n",
    "\n",
    "---\n",
    "\n",
    "\n",
    "#### **Q5**. \n",
    "Implemente uma função recursiva que recebe um número inteiro decimal e retorna sua representação binária como uma string. Para realizar essa conversão, utilize o método de divisão sucessiva, onde você divide o número decimal por 2 e coleta os restos até que o quociente seja zero. A ordem dos restos coletados, de baixo para cima, forma o número binário correspondente.\n",
    "\n",
    "**Exemplo de Conversão:**\n",
    "\n",
    "Para converter o número decimal 13 para binário:\n",
    "```\n",
    "13 ÷ 2 = 6, resto 1\n",
    "6 ÷ 2 = 3, resto 0\n",
    "3 ÷ 2 = 1, resto 1\n",
    "1 ÷ 2 = 0, resto 1\n",
    "```\n",
    "Lendo os restos de baixo para cima, obtemos o número binário `1101`."
   ]
  },
  {
   "cell_type": "code",
   "execution_count": 16,
   "id": "a7d954f0",
   "metadata": {},
   "outputs": [
    {
     "name": "stdout",
     "output_type": "stream",
     "text": [
      "O número binário de 6 é: 110\n"
     ]
    }
   ],
   "source": [
    "def decimal_para_binario(n):\n",
    "    if n == 0:\n",
    "        return \"\"\n",
    "    else:\n",
    "        return decimal_para_binario(n // 2) + str(n % 2)\n",
    "\n",
    "# Parte principal do programa\n",
    "try:\n",
    "    numero = int(input(\"Digite um número inteiro decimal: \"))\n",
    "    if numero == 0:\n",
    "        print(\"O número binário é: 0\")\n",
    "    elif numero > 0:\n",
    "        binario = decimal_para_binario(numero)\n",
    "        print(f\"O número binário de {numero} é: {binario}\")\n",
    "    else:\n",
    "        print(\"Erro: digite um número inteiro positivo ou zero.\")\n",
    "except ValueError:\n",
    "    print(\"Erro: por favor, digite um número inteiro válido.\")\n"
   ]
  },
  {
   "cell_type": "markdown",
   "id": "0f500709",
   "metadata": {},
   "source": [
    "\n",
    "\n",
    "---\n",
    "\n",
    "\n",
    "#### **Extra**: \n",
    "\n",
    "Implemente uma função recursiva em Python que realiza a travessia em pré-ordem de uma árvore binária representada por listas aninhadas. Na travessia em pré-ordem (ou pré-fixada), o nó raiz é visitado primeiro, seguido pela subárvore esquerda e, por fim, pela subárvore direita. A questão fixa as constantes `RAIZ_IDX, ESQ_IDX, DIR_IDX` representando os índices da lista onde se encontra o valor raíz, o nó a esquerda e o nó a direita.\n",
    "\n",
    "```\n",
    "# Representação visual da árvore\n",
    "       4\n",
    "      / \\\n",
    "     2   5\n",
    "    / \\\n",
    "   1   3\n",
    "```"
   ]
  },
  {
   "cell_type": "code",
   "execution_count": 18,
   "id": "10df4831",
   "metadata": {},
   "outputs": [
    {
     "name": "stdout",
     "output_type": "stream",
     "text": [
      "Travessia em pré-ordem: [4, 2, 1, 3, 5]\n"
     ]
    }
   ],
   "source": [
    "RAIZ_IDX, ESQ_IDX, DIR_IDX = 0, 1, 2\n",
    "\n",
    "def pre_ordem(arvore):\n",
    "    if arvore is None:\n",
    "        return []\n",
    "    \n",
    "    raiz = arvore[RAIZ_IDX]\n",
    "    esquerda = arvore[ESQ_IDX]\n",
    "    direita = arvore[DIR_IDX]\n",
    "    \n",
    "    return [raiz] + pre_ordem(esquerda) + pre_ordem(direita)\n",
    "\n",
    "# Árvore de exemplo\n",
    "arvore = [\n",
    "    4,\n",
    "    [\n",
    "        2,\n",
    "        [1, None, None],\n",
    "        [3, None, None]\n",
    "    ],\n",
    "    [\n",
    "        5,\n",
    "        None,\n",
    "        None\n",
    "    ]\n",
    "]\n",
    "\n",
    "# Chamada da função\n",
    "resultado = pre_ordem(arvore)\n",
    "print(\"Travessia em pré-ordem:\", resultado)\n"
   ]
  },
  {
   "cell_type": "code",
   "execution_count": null,
   "id": "ce5daecf",
   "metadata": {},
   "outputs": [],
   "source": [
    "RAIZ_IDX, ESQ_IDX, DIR_IDX = 0, 1, 2\n",
    "\n",
    "arvore = [\n",
    "    4,              # raíz, nível 0\n",
    "    [               # ramo da esquerda, nível 1\n",
    "        2,          # valor filho esquerda\n",
    "        [1, None, None],   # ramo da esquerda, nível 2\n",
    "        [3, None, None]    # ramo da direita, nível 2\n",
    "    ],\n",
    "    [               # ramo da direita, nível 1\n",
    "        5,          # valor filho da direita\n",
    "        None,              # ramo da esquerda, nível 2\n",
    "        None               # ramo da direita, nível 2\n",
    "    ]\n",
    "]"
   ]
  }
 ],
 "metadata": {
  "kernelspec": {
   "display_name": "Python 3",
   "language": "python",
   "name": "python3"
  },
  "language_info": {
   "codemirror_mode": {
    "name": "ipython",
    "version": 3
   },
   "file_extension": ".py",
   "mimetype": "text/x-python",
   "name": "python",
   "nbconvert_exporter": "python",
   "pygments_lexer": "ipython3",
   "version": "3.13.3"
  }
 },
 "nbformat": 4,
 "nbformat_minor": 5
}
