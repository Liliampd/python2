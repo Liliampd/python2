{
 "cells": [
  {
   "cell_type": "markdown",
   "id": "1e3cbe4c",
   "metadata": {},
   "source": [
    "# Exercício Prático - Classes (Evento)"
   ]
  },
  {
   "cell_type": "code",
   "execution_count": 1,
   "id": "d7162519",
   "metadata": {},
   "outputs": [
    {
     "name": "stdout",
     "output_type": "stream",
     "text": [
      "Reunião 2025-07-10 14:30:00 Reunião de equipe False\n",
      "Aniversário 2025-07-15 19:00:00 Festa de aniversário False\n",
      "Total de eventos: 2\n"
     ]
    }
   ],
   "source": [
    "\n",
    "from datetime import datetime\n",
    "\n",
    "class Evento:\n",
    "    total_eventos = 0\n",
    "\n",
    "    def __init__(self, titulo, data_hora, descricao):\n",
    "        self.titulo = titulo\n",
    "        self.data_hora = data_hora\n",
    "        self.descricao = descricao\n",
    "        self.is_concluido = False\n",
    "        Evento.total_eventos += 1\n",
    "\n",
    "# Teste Parte 1\n",
    "evento1 = Evento(\"Reunião\", datetime(2025, 7, 10, 14, 30), \"Reunião de equipe\")\n",
    "evento2 = Evento(\"Aniversário\", datetime(2025, 7, 15, 19, 0), \"Festa de aniversário\")\n",
    "\n",
    "print(evento1.titulo, evento1.data_hora, evento1.descricao, evento1.is_concluido)\n",
    "print(evento2.titulo, evento2.data_hora, evento2.descricao, evento2.is_concluido)\n",
    "print(\"Total de eventos:\", Evento.total_eventos)\n"
   ]
  },
  {
   "cell_type": "code",
   "execution_count": 3,
   "id": "63742fab",
   "metadata": {},
   "outputs": [
    {
     "name": "stdout",
     "output_type": "stream",
     "text": [
      "True\n",
      "1\n",
      "True\n",
      "False\n"
     ]
    }
   ],
   "source": [
    "\n",
    "from datetime import datetime\n",
    "\n",
    "class Evento:\n",
    "    total_eventos = 0\n",
    "\n",
    "    def __init__(self, titulo, data_hora, descricao):\n",
    "        self.titulo = titulo\n",
    "        self.data_hora = data_hora\n",
    "        self.descricao = descricao\n",
    "        self.is_concluido = False\n",
    "        Evento.total_eventos += 1\n",
    "\n",
    "    def isConcluido(self):\n",
    "        if self.data_hora < datetime.now():\n",
    "            self.is_concluido = True\n",
    "\n",
    "    @classmethod\n",
    "    def num_eventos(cls):\n",
    "        return cls.total_eventos\n",
    "\n",
    "    @staticmethod\n",
    "    def valida_evento(titulo, data_hora, descricao):\n",
    "        return (\n",
    "            isinstance(titulo, str) and\n",
    "            isinstance(data_hora, datetime) and\n",
    "            isinstance(descricao, str)\n",
    "        )\n",
    "\n",
    "# Teste Parte 2\n",
    "evento3 = Evento(\"Evento Teste\", datetime(2025, 7, 1, 10, 0), \"Evento de teste\")\n",
    "evento3.isConcluido()\n",
    "print(evento3.is_concluido)\n",
    "\n",
    "print(Evento.num_eventos())\n",
    "\n",
    "print(Evento.valida_evento(\"Teste\", datetime.now(), \"Descrição válida\"))\n",
    "print(Evento.valida_evento(123, \"2025-07-01\", True))\n"
   ]
  },
  {
   "cell_type": "code",
   "execution_count": 4,
   "id": "e5857d7e",
   "metadata": {},
   "outputs": [
    {
     "name": "stdout",
     "output_type": "stream",
     "text": [
      "Evento: Evento 4, Data: 2025-07-01 15:00:00, Descrição: Teste A, Concluido: False\n",
      "Evento: Evento 5, Data: 2025-07-02 15:00:00, Descrição: Teste B, Concluido: False\n",
      "False\n",
      "True\n",
      "True\n",
      "True\n",
      "False\n",
      "False\n"
     ]
    }
   ],
   "source": [
    "\n",
    "from datetime import datetime\n",
    "\n",
    "class Evento:\n",
    "    total_eventos = 0\n",
    "\n",
    "    def __init__(self, titulo, data_hora, descricao):\n",
    "        self.titulo = titulo\n",
    "        self.data_hora = data_hora\n",
    "        self.descricao = descricao\n",
    "        self.is_concluido = False\n",
    "        Evento.total_eventos += 1\n",
    "\n",
    "    def isConcluido(self):\n",
    "        if self.data_hora < datetime.now():\n",
    "            self.is_concluido = True\n",
    "\n",
    "    @classmethod\n",
    "    def num_eventos(cls):\n",
    "        return cls.total_eventos\n",
    "\n",
    "    @staticmethod\n",
    "    def valida_evento(titulo, data_hora, descricao):\n",
    "        return (\n",
    "            isinstance(titulo, str) and\n",
    "            isinstance(data_hora, datetime) and\n",
    "            isinstance(descricao, str)\n",
    "        )\n",
    "\n",
    "    def __str__(self):\n",
    "        return f\"Evento: {self.titulo}, Data: {self.data_hora}, Descrição: {self.descricao}, Concluido: {self.is_concluido}\"\n",
    "\n",
    "    def __eq__(self, other):\n",
    "        return self.data_hora == other.data_hora\n",
    "\n",
    "    def __ne__(self, other):\n",
    "        return self.data_hora != other.data_hora\n",
    "\n",
    "    def __lt__(self, other):\n",
    "        return self.data_hora < other.data_hora\n",
    "\n",
    "    def __le__(self, other):\n",
    "        return self.data_hora <= other.data_hora\n",
    "\n",
    "    def __gt__(self, other):\n",
    "        return self.data_hora > other.data_hora\n",
    "\n",
    "    def __ge__(self, other):\n",
    "        return self.data_hora >= other.data_hora\n",
    "\n",
    "# Teste Parte 3\n",
    "evento4 = Evento(\"Evento 4\", datetime(2025, 7, 1, 15, 0), \"Teste A\")\n",
    "evento5 = Evento(\"Evento 5\", datetime(2025, 7, 2, 15, 0), \"Teste B\")\n",
    "\n",
    "print(evento4)\n",
    "print(evento5)\n",
    "\n",
    "print(evento4 == evento5)\n",
    "print(evento4 != evento5)\n",
    "print(evento4 < evento5)\n",
    "print(evento4 <= evento5)\n",
    "print(evento4 > evento5)\n",
    "print(evento4 >= evento5)\n"
   ]
  }
 ],
 "metadata": {
  "kernelspec": {
   "display_name": "Python 3",
   "language": "python",
   "name": "python3"
  },
  "language_info": {
   "codemirror_mode": {
    "name": "ipython",
    "version": 3
   },
   "file_extension": ".py",
   "mimetype": "text/x-python",
   "name": "python",
   "nbconvert_exporter": "python",
   "pygments_lexer": "ipython3",
   "version": "3.13.5"
  }
 },
 "nbformat": 4,
 "nbformat_minor": 5
}
