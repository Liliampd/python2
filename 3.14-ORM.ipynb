{
 "cells": [
  {
   "cell_type": "markdown",
   "metadata": {},
   "source": [
    "> Projeto Desenvolve <br>\n",
    "Programação Intermediária com Python <br>\n",
    "Profa. Camila Laranjeira (mila@projetodesenvolve.com.br) <br>\n",
    "\n",
    "# 3.14 - ORM"
   ]
  },
  {
   "cell_type": "markdown",
   "metadata": {},
   "source": [
    "## Exercícios\n",
    "\n",
    "#### Q1. Conhecendo os dados\n",
    "Baixe o seguinte csv onde iremos trabalhar. Ele contém informações sobre salários de profissionais de dados de uma empresa hipotética entre 2009 e 2016\n",
    "* https://github.com/camilalaranjeira/python-intermediario/blob/main/salaries.csv\n",
    "\n",
    "Suas colunas, descritas na [página do Kaggle que contém o dataset](https://www.kaggle.com/datasets/krishujeniya/salary-prediction-of-data-professions?resource=download), são:\n",
    "* FIRST NAME: Primeiro nome do profissional de dados (String)\n",
    "* LAST NAME: Sobrenome do profissional de dados (String)\n",
    "* SEX: Gênero do profissional de dados (String: 'F' para Feminino, 'M' para Masculino)\n",
    "* DOJ (Date of Joining): A data em que o profissional de dados ingressou na empresa (Data no formato MM/DD/AAAA)\n",
    "* CURRENT DATE: A data atual ou a data de referência dos dados (Data no formato MM/DD/AAAA)\n",
    "* DESIGNATION: O cargo ou designação do profissional de dados (String: ex., Analista, Analista Sênior, Gerente)\n",
    "* AGE: Idade do profissional de dados (Integer)\n",
    "* SALARY: Salário anual do profissional de dados (Float)\n",
    "* UNIT: Unidade de negócios ou departamento em que o profissional de dados trabalha (String: ex., TI, Finanças, Marketing)\n",
    "* LEAVES USED: Número de licenças utilizadas pelo profissional de dados (Integer)\n",
    "* LEAVES REMAINING: Número de licenças restantes para o profissional de dados (Integer)\n",
    "* RATINGS: Avaliações de desempenho do profissional de dados (Float)\n",
    "* PAST EXP: Experiência de trabalho anterior em anos antes de ingressar na empresa atual (Float)\n",
    "\n",
    "Na célula a seguir, **carregue os dados do CSV e dê uma olhada neles antes de seguir**."
   ]
  },
  {
   "cell_type": "code",
   "execution_count": 1,
   "metadata": {
    "vscode": {
     "languageId": "plaintext"
    }
   },
   "outputs": [
    {
     "name": "stdout",
     "output_type": "stream",
     "text": [
      "  FIRST NAME   LAST NAME SEX         DOJ CURRENT DATE DESIGNATION   AGE  \\\n",
      "0     TOMASA       ARMEN   F   5-18-2014   01-07-2016     Analyst  21.0   \n",
      "1      ANNIE         NaN   F         NaN   01-07-2016   Associate   NaN   \n",
      "2      OLIVE        ANCY   F   7-28-2014   01-07-2016     Analyst  21.0   \n",
      "3     CHERRY     AQUILAR   F  04-03-2013   01-07-2016     Analyst  22.0   \n",
      "4       LEON  ABOULAHOUD   M  11-20-2014   01-07-2016     Analyst   NaN   \n",
      "\n",
      "   SALARY        UNIT  LEAVES USED  LEAVES REMAINING  RATINGS  PAST EXP  \n",
      "0   44570     Finance         24.0               6.0      2.0         0  \n",
      "1   89207         Web          NaN              13.0      NaN         7  \n",
      "2   40955     Finance         23.0               7.0      3.0         0  \n",
      "3   45550          IT         22.0               8.0      3.0         0  \n",
      "4   43161  Operations         27.0               3.0      NaN         3  \n",
      "<class 'pandas.core.frame.DataFrame'>\n",
      "RangeIndex: 2639 entries, 0 to 2638\n",
      "Data columns (total 13 columns):\n",
      " #   Column            Non-Null Count  Dtype  \n",
      "---  ------            --------------  -----  \n",
      " 0   FIRST NAME        2639 non-null   object \n",
      " 1   LAST NAME         2637 non-null   object \n",
      " 2   SEX               2639 non-null   object \n",
      " 3   DOJ               2638 non-null   object \n",
      " 4   CURRENT DATE      2639 non-null   object \n",
      " 5   DESIGNATION       2639 non-null   object \n",
      " 6   AGE               2636 non-null   float64\n",
      " 7   SALARY            2639 non-null   int64  \n",
      " 8   UNIT              2639 non-null   object \n",
      " 9   LEAVES USED       2636 non-null   float64\n",
      " 10  LEAVES REMAINING  2637 non-null   float64\n",
      " 11  RATINGS           2637 non-null   float64\n",
      " 12  PAST EXP          2639 non-null   int64  \n",
      "dtypes: float64(4), int64(2), object(7)\n",
      "memory usage: 268.2+ KB\n",
      "None\n"
     ]
    }
   ],
   "source": [
    "### Escreva sua resposta aqui\n",
    "import pandas as pd\n",
    "\n",
    "# URL do arquivo CSV no GitHub\n",
    "url = \"https://raw.githubusercontent.com/camilalaranjeira/python-intermediario/main/salaries.csv\"\n",
    "\n",
    "# Carregar os dados\n",
    "df = pd.read_csv(url)\n",
    "\n",
    "# Mostrar as primeiras 5 linhas para dar uma olhada nos dados\n",
    "print(df.head())\n",
    "\n",
    "# Mostrar informações gerais do DataFrame\n",
    "print(df.info())\n"
   ]
  },
  {
   "cell_type": "markdown",
   "metadata": {},
   "source": [
    "#### Q2. Modelando os dados\n",
    "Você deve **criar um ORM com SQLAlchemy capaz de comportar os dados dessa base**.\n",
    "\n",
    "* Crie um campo de chave primária `ID`, que deve ser incrementado automaticamente\n",
    "* Os campos SEX, DESIGNATION e UNIT devem ser definidos como classes `Enum` com os possíveis valores (consulte os valores únicos dessas colunas)\n",
    "* Para os outros campos, consulte os tipos de dados informados na descrição acima"
   ]
  },
  {
   "cell_type": "code",
   "execution_count": 13,
   "metadata": {
    "vscode": {
     "languageId": "plaintext"
    }
   },
   "outputs": [
    {
     "name": "stdout",
     "output_type": "stream",
     "text": [
      "SEX únicos: ['F' 'M']\n",
      "DESIGNATION únicos: ['Analyst' 'Associate' 'Senior Analyst' 'Senior Manager' 'Manager'\n",
      " 'Director']\n",
      "UNIT únicos: ['Finance' 'Web' 'IT' 'Operations' 'Marketing' 'Management']\n"
     ]
    }
   ],
   "source": [
    "### Escreva sua resposta aqui\n",
    "import pandas as pd\n",
    "\n",
    "url = \"https://raw.githubusercontent.com/camilalaranjeira/python-intermediario/main/salaries.csv\"\n",
    "df = pd.read_csv(url)\n",
    "\n",
    "print(\"SEX únicos:\", df['SEX'].unique())\n",
    "print(\"DESIGNATION únicos:\", df['DESIGNATION'].unique())\n",
    "print(\"UNIT únicos:\", df['UNIT'].unique())\n"
   ]
  },
  {
   "cell_type": "code",
   "execution_count": 15,
   "metadata": {},
   "outputs": [
    {
     "name": "stdout",
     "output_type": "stream",
     "text": [
      "Requirement already satisfied: sqlalchemy in c:\\users\\pdita681\\anaconda3\\envs\\py311_numpy124\\lib\\site-packages (2.0.43)\n",
      "Requirement already satisfied: greenlet>=1 in c:\\users\\pdita681\\anaconda3\\envs\\py311_numpy124\\lib\\site-packages (from sqlalchemy) (3.2.4)\n",
      "Requirement already satisfied: typing-extensions>=4.6.0 in c:\\users\\pdita681\\anaconda3\\envs\\py311_numpy124\\lib\\site-packages (from sqlalchemy) (4.12.2)\n"
     ]
    }
   ],
   "source": [
    "!pip install sqlalchemy\n"
   ]
  },
  {
   "cell_type": "code",
   "execution_count": 23,
   "metadata": {},
   "outputs": [],
   "source": [
    "from sqlalchemy import create_engine, Column, Integer, String, Float, Date, Enum\n",
    "from sqlalchemy.orm import declarative_base\n",
    "import enum\n",
    "\n",
    "Base = declarative_base()\n",
    "\n",
    "class SexEnum(enum.Enum):\n",
    "    M = \"M\"\n",
    "    F = \"F\"\n",
    "\n",
    "class DesignationEnum(enum.Enum):\n",
    "    Analyst = \"Analyst\"\n",
    "    Senior_Analyst = \"Senior Analyst\"\n",
    "    Manager = \"Manager\"\n",
    "    # Adicione outros cargos conforme necessário\n",
    "\n",
    "class UnitEnum(enum.Enum):\n",
    "    IT = \"IT\"\n",
    "    Finance = \"Finance\"\n",
    "    Marketing = \"Marketing\"\n",
    "    # Adicione outras unidades conforme necessário\n",
    "\n",
    "class SalaryRecord(Base):\n",
    "    __tablename__ = 'salary_records'\n",
    "\n",
    "    id = Column(Integer, primary_key=True, autoincrement=True)\n",
    "    first_name = Column(String)\n",
    "    last_name = Column(String)\n",
    "    sex = Column(Enum(SexEnum))\n",
    "    doj = Column(Date)  # Date of Joining\n",
    "    current_date = Column(Date)\n",
    "    designation = Column(Enum(DesignationEnum))\n",
    "    age = Column(Integer)\n",
    "    salary = Column(Float)\n",
    "    unit = Column(Enum(UnitEnum))\n",
    "    leaves_used = Column(Integer)\n",
    "    leaves_remaining = Column(Integer)\n",
    "    ratings = Column(Float)\n",
    "    past_exp = Column(Float)\n"
   ]
  },
  {
   "cell_type": "code",
   "execution_count": 25,
   "metadata": {},
   "outputs": [
    {
     "name": "stdout",
     "output_type": "stream",
     "text": [
      "2025-08-12 14:23:49,108 INFO sqlalchemy.engine.Engine BEGIN (implicit)\n",
      "2025-08-12 14:23:49,109 INFO sqlalchemy.engine.Engine PRAGMA main.table_info(\"salary_records\")\n",
      "2025-08-12 14:23:49,109 INFO sqlalchemy.engine.Engine [raw sql] ()\n",
      "2025-08-12 14:23:49,111 INFO sqlalchemy.engine.Engine PRAGMA temp.table_info(\"salary_records\")\n",
      "2025-08-12 14:23:49,111 INFO sqlalchemy.engine.Engine [raw sql] ()\n",
      "2025-08-12 14:23:49,112 INFO sqlalchemy.engine.Engine \n",
      "CREATE TABLE salary_records (\n",
      "\tid INTEGER NOT NULL, \n",
      "\tfirst_name VARCHAR, \n",
      "\tlast_name VARCHAR, \n",
      "\tsex VARCHAR(1), \n",
      "\tdoj DATE, \n",
      "\t\"current_date\" DATE, \n",
      "\tdesignation VARCHAR(14), \n",
      "\tage INTEGER, \n",
      "\tsalary FLOAT, \n",
      "\tunit VARCHAR(9), \n",
      "\tleaves_used INTEGER, \n",
      "\tleaves_remaining INTEGER, \n",
      "\tratings FLOAT, \n",
      "\tpast_exp FLOAT, \n",
      "\tPRIMARY KEY (id)\n",
      ")\n",
      "\n",
      "\n",
      "2025-08-12 14:23:49,113 INFO sqlalchemy.engine.Engine [no key 0.00059s] ()\n",
      "2025-08-12 14:23:49,114 INFO sqlalchemy.engine.Engine COMMIT\n",
      "Banco e tabela criados com sucesso!\n"
     ]
    }
   ],
   "source": [
    "from sqlalchemy import create_engine\n",
    "\n",
    "# Cria um engine SQLite na memória (ou você pode usar um arquivo, ex: sqlite:///meubanco.db)\n",
    "engine = create_engine('sqlite:///:memory:', echo=True)\n",
    "\n",
    "# Cria as tabelas no banco conforme o modelo definido\n",
    "Base.metadata.create_all(engine)\n",
    "\n",
    "print(\"Banco e tabela criados com sucesso!\")\n"
   ]
  },
  {
   "cell_type": "markdown",
   "metadata": {
    "vscode": {
     "languageId": "plaintext"
    }
   },
   "source": [
    "#### Q3. Estabelecendo uma conexão\n",
    "\n",
    "Usando o método `create_engine` do SQLAlchemy, crie uma conexão com um novo banco de dados SQLite chamado `salarios`."
   ]
  },
  {
   "cell_type": "code",
   "execution_count": 27,
   "metadata": {
    "vscode": {
     "languageId": "plaintext"
    }
   },
   "outputs": [
    {
     "name": "stdout",
     "output_type": "stream",
     "text": [
      "Conexão com o banco 'salarios.db' criada com sucesso!\n"
     ]
    }
   ],
   "source": [
    "### Escreva sua resposta aqui\n",
    "\n",
    "from sqlalchemy import create_engine\n",
    "\n",
    "engine = create_engine('sqlite:///salarios.db')\n",
    "\n",
    "print(\"Conexão com o banco 'salarios.db' criada com sucesso!\")\n"
   ]
  },
  {
   "cell_type": "markdown",
   "metadata": {},
   "source": [
    "#### Q4. Criando as tabelas\n",
    "Crie as tabelas da questão Q2 no banco `salarios`."
   ]
  },
  {
   "cell_type": "code",
   "execution_count": 29,
   "metadata": {
    "vscode": {
     "languageId": "plaintext"
    }
   },
   "outputs": [
    {
     "name": "stdout",
     "output_type": "stream",
     "text": [
      "Tabelas criadas no banco 'salarios.db' com sucesso!\n"
     ]
    }
   ],
   "source": [
    "### Escreva sua resposta aqui\n",
    "\n",
    "# Supondo que você já tenha o seguinte:\n",
    "\n",
    "from sqlalchemy import create_engine\n",
    "\n",
    "# engine criado no Q3\n",
    "engine = create_engine('sqlite:///salarios.db')\n",
    "\n",
    "# E as classes de modelo definidas e Base declarada (Q2)\n",
    "\n",
    "# Agora, cria as tabelas no banco\n",
    "Base.metadata.create_all(engine)\n",
    "\n",
    "print(\"Tabelas criadas no banco 'salarios.db' com sucesso!\")\n"
   ]
  },
  {
   "cell_type": "markdown",
   "metadata": {},
   "source": [
    "#### Q5. Populando\n",
    "\n",
    "Usando o método `to_sql` da biblioteca Pandas (veja [a documentação](https://pandas.pydata.org/docs/reference/api/pandas.DataFrame.to_sql.html)), popule o banco `salarios` com os dados do csv que você carregou na questão Q1.\n",
    "* Lembre-se de definir o parâmetro `if_exists='append'` para que as tabelas não sejam dropadas e recriadas."
   ]
  },
  {
   "cell_type": "code",
   "execution_count": 49,
   "metadata": {},
   "outputs": [
    {
     "name": "stdout",
     "output_type": "stream",
     "text": [
      "Colunas originais: ['FIRST NAME', 'LAST NAME', 'SEX', 'DOJ', 'CURRENT DATE', 'DESIGNATION', 'AGE', 'SALARY', 'UNIT', 'LEAVES USED', 'LEAVES REMAINING', 'RATINGS', 'PAST EXP']\n",
      "Renomeações aplicadas: {'FIRST NAME': 'first_name', 'LAST NAME': 'last_name', 'SEX': 'sex', 'DOJ': 'doj', 'CURRENT DATE': 'current_date', 'DESIGNATION': 'designation', 'AGE': 'age', 'SALARY': 'salary', 'UNIT': 'unit', 'LEAVES USED': 'leaves_used', 'LEAVES REMAINING': 'leaves_remaining', 'RATINGS': 'ratings', 'PAST EXP': 'past_exp'}\n",
      "Colunas após rename: ['first_name', 'last_name', 'sex', 'doj', 'current_date', 'designation', 'age', 'salary', 'unit', 'leaves_used', 'leaves_remaining', 'ratings', 'past_exp']\n",
      "Linhas antes da inserção na tabela 'salary_records': 0\n",
      "Linhas depois da inserção na tabela 'salary_records': 2639\n",
      "2639 linhas inseridas (esperado: 2639).\n",
      "\n",
      "Primeiras 5 linhas da tabela (preview):\n",
      "   id first_name   last_name sex                         doj  \\\n",
      "0   1     TOMASA       ARMEN   F  2014-05-18 00:00:00.000000   \n",
      "1   2      ANNIE        None   F                        None   \n",
      "2   3      OLIVE        ANCY   F  2014-07-28 00:00:00.000000   \n",
      "3   4     CHERRY     AQUILAR   F  2013-04-03 00:00:00.000000   \n",
      "4   5       LEON  ABOULAHOUD   M  2014-11-20 00:00:00.000000   \n",
      "\n",
      "                 current_date designation   age   salary        unit  \\\n",
      "0  2016-01-07 00:00:00.000000     Analyst  21.0  44570.0     Finance   \n",
      "1  2016-01-07 00:00:00.000000   Associate   NaN  89207.0         Web   \n",
      "2  2016-01-07 00:00:00.000000     Analyst  21.0  40955.0     Finance   \n",
      "3  2016-01-07 00:00:00.000000     Analyst  22.0  45550.0          IT   \n",
      "4  2016-01-07 00:00:00.000000     Analyst   NaN  43161.0  Operations   \n",
      "\n",
      "   leaves_used  leaves_remaining  ratings  past_exp  \n",
      "0         24.0                 6      2.0       0.0  \n",
      "1          NaN                13      NaN       7.0  \n",
      "2         23.0                 7      3.0       0.0  \n",
      "3         22.0                 8      3.0       0.0  \n",
      "4         27.0                 3      NaN       3.0  \n"
     ]
    }
   ],
   "source": [
    "# Q5 - Populando o banco 'salarios.db' com pandas.to_sql (if_exists='append')\n",
    "import pandas as pd\n",
    "from sqlalchemy import create_engine\n",
    "import sys\n",
    "\n",
    "# 1) Crie/aponte o engine para o seu SQLite (arquivo salarios.db será criado se não existir)\n",
    "engine = create_engine('sqlite:///salarios.db')\n",
    "\n",
    "# 2) Carregar o CSV (do repositório)\n",
    "url = \"https://raw.githubusercontent.com/camilalaranjeira/python-intermediario/main/salaries.csv\"\n",
    "df = pd.read_csv(url)\n",
    "\n",
    "# 3) Mostrar colunas originais para debug (opcional)\n",
    "print(\"Colunas originais:\", df.columns.tolist())\n",
    "\n",
    "# 4) Renomear automaticamente as colunas mais prováveis para o padrão snake_case usado no ORM\n",
    "renames = {}\n",
    "for col in df.columns:\n",
    "    c = col.lower()\n",
    "    if 'first' in c and 'name' in c:\n",
    "        renames[col] = 'first_name'\n",
    "    elif 'last' in c and 'name' in c:\n",
    "        renames[col] = 'last_name'\n",
    "    elif c.strip() in ('sex','gender'):\n",
    "        renames[col] = 'sex'\n",
    "    elif 'doj' in c or ('join' in c and 'date' in c) or ('date' in c and 'joining' in c):\n",
    "        renames[col] = 'doj'\n",
    "    elif 'current' in c and 'date' in c:\n",
    "        renames[col] = 'current_date'\n",
    "    elif 'design' in c:\n",
    "        renames[col] = 'designation'\n",
    "    elif 'age' == c or c.startswith('age'):\n",
    "        renames[col] = 'age'\n",
    "    elif 'salary' in c:\n",
    "        renames[col] = 'salary'\n",
    "    elif 'unit' in c or 'department' in c or 'business' in c:\n",
    "        renames[col] = 'unit'\n",
    "    elif 'leave' in c and 'used' in c:\n",
    "        renames[col] = 'leaves_used'\n",
    "    elif 'leave' in c and ('remain' in c or 'remaining' in c):\n",
    "        renames[col] = 'leaves_remaining'\n",
    "    elif 'rating' in c:\n",
    "        renames[col] = 'ratings'\n",
    "    elif 'past' in c and ('exp' in c or 'experience' in c):\n",
    "        renames[col] = 'past_exp'\n",
    "\n",
    "# Aplicar renomeação e mostrar mapeamento\n",
    "df.rename(columns=renames, inplace=True)\n",
    "print(\"Renomeações aplicadas:\", renames)\n",
    "print(\"Colunas após rename:\", df.columns.tolist())\n",
    "\n",
    "# 5) Converter colunas de data (quando existirem). Usamos errors='coerce' para evitar crashes.\n",
    "if 'doj' in df.columns:\n",
    "    df['doj'] = pd.to_datetime(df['doj'], errors='coerce')\n",
    "if 'current_date' in df.columns:\n",
    "    df['current_date'] = pd.to_datetime(df['current_date'], errors='coerce')\n",
    "\n",
    "# 6) Converter colunas numéricas (quando existirem)\n",
    "num_cols = ['age','salary','leaves_used','leaves_remaining','ratings','past_exp']\n",
    "for nc in num_cols:\n",
    "    if nc in df.columns:\n",
    "        df[nc] = pd.to_numeric(df[nc], errors='coerce')\n",
    "\n",
    "# 7) Limpar/normalizar strings (sex, designation, unit)\n",
    "for s in ('sex','designation','unit'):\n",
    "    if s in df.columns:\n",
    "        df[s] = df[s].astype(str).str.strip()\n",
    "\n",
    "# 8) Antes de inserir: contar linhas já existentes na tabela (se existir)\n",
    "table_name = 'salary_records'\n",
    "try:\n",
    "    before = pd.read_sql_query(f\"SELECT COUNT(*) AS cnt FROM {table_name}\", engine).iloc[0,0]\n",
    "except Exception:\n",
    "    before = 0\n",
    "print(f\"Linhas antes da inserção na tabela '{table_name}': {before}\")\n",
    "\n",
    "# 9) Inserir usando to_sql com if_exists='append' (não altera a tabela existente)\n",
    "#    index=False para não criar coluna index como campo na tabela\n",
    "df.to_sql(table_name, con=engine, if_exists='append', index=False)\n",
    "\n",
    "# 10) Confirmar quantas linhas agora existem\n",
    "after = pd.read_sql_query(f\"SELECT COUNT(*) AS cnt FROM {table_name}\", engine).iloc[0,0]\n",
    "print(f\"Linhas depois da inserção na tabela '{table_name}': {after}\")\n",
    "print(f\"{after - before} linhas inseridas (esperado: {len(df)}).\")\n",
    "\n",
    "# 11) Mostrar as primeiras 5 linhas inseridas (query)\n",
    "print(\"\\nPrimeiras 5 linhas da tabela (preview):\")\n",
    "preview = pd.read_sql_query(f\"SELECT * FROM {table_name} LIMIT 5\", engine)\n",
    "print(preview)\n"
   ]
  },
  {
   "cell_type": "markdown",
   "metadata": {},
   "source": [
    "#### Q6. Consultas SQL vs ORM\n",
    "\n",
    "Agrupe os dados por DESIGNATION e selecione o mínimo, máximo e a média dos salários (SALARY) divididos por 12. Já que o atributo SALARY é anual, dividir por 12 nos mostrará os valores mensais.\n",
    "\n",
    "Assumindo que a variável que armazena a sua conexão se chama `engine`, você deve realizar a query acima de três formas:\n",
    "* Executando a query SQL através de uma instância de conexão retornada pelo método `engine.connect()`\n",
    "* Executando a query SQL com o método `read_sql_query` do Pandas (veja [a documentação](https://pandas.pydata.org/docs/reference/api/pandas.read_sql_query.html)). Você usará mesma instância `engine.connect()` como um dos parâmetros.\n",
    "* Executando uma query criada com o módulo `select` do SQLAlchemy. Sua execução deve ser feita através de um objeto `Session` do módulo `orm` do SQLAlchemy (`Session(engine)`).\n"
   ]
  },
  {
   "cell_type": "code",
   "execution_count": 51,
   "metadata": {},
   "outputs": [
    {
     "name": "stdout",
     "output_type": "stream",
     "text": [
      "Requirement already satisfied: pandas in c:\\users\\pdita681\\anaconda3\\envs\\py311_numpy124\\lib\\site-packages (2.3.1)\n",
      "Requirement already satisfied: sqlalchemy in c:\\users\\pdita681\\anaconda3\\envs\\py311_numpy124\\lib\\site-packages (2.0.43)\n",
      "Requirement already satisfied: numpy>=1.23.2 in c:\\users\\pdita681\\anaconda3\\envs\\py311_numpy124\\lib\\site-packages (from pandas) (1.24.3)\n",
      "Requirement already satisfied: python-dateutil>=2.8.2 in c:\\users\\pdita681\\anaconda3\\envs\\py311_numpy124\\lib\\site-packages (from pandas) (2.9.0.post0)\n",
      "Requirement already satisfied: pytz>=2020.1 in c:\\users\\pdita681\\anaconda3\\envs\\py311_numpy124\\lib\\site-packages (from pandas) (2025.2)\n",
      "Requirement already satisfied: tzdata>=2022.7 in c:\\users\\pdita681\\anaconda3\\envs\\py311_numpy124\\lib\\site-packages (from pandas) (2025.2)\n",
      "Requirement already satisfied: greenlet>=1 in c:\\users\\pdita681\\anaconda3\\envs\\py311_numpy124\\lib\\site-packages (from sqlalchemy) (3.2.4)\n",
      "Requirement already satisfied: typing-extensions>=4.6.0 in c:\\users\\pdita681\\anaconda3\\envs\\py311_numpy124\\lib\\site-packages (from sqlalchemy) (4.12.2)\n",
      "Requirement already satisfied: six>=1.5 in c:\\users\\pdita681\\anaconda3\\envs\\py311_numpy124\\lib\\site-packages (from python-dateutil>=2.8.2->pandas) (1.17.0)\n"
     ]
    }
   ],
   "source": [
    "!pip install pandas sqlalchemy\n"
   ]
  },
  {
   "cell_type": "code",
   "execution_count": 53,
   "metadata": {},
   "outputs": [
    {
     "name": "stdout",
     "output_type": "stream",
     "text": [
      "Engine criado: Engine(sqlite:///salarios.db)\n"
     ]
    }
   ],
   "source": [
    "# Célula 1 — imports e engine\n",
    "import pandas as pd\n",
    "from sqlalchemy import create_engine, text\n",
    "from sqlalchemy.orm import declarative_base\n",
    "\n",
    "# engine apontando para o arquivo SQLite (salarios.db)\n",
    "engine = create_engine('sqlite:///salarios.db', echo=False)\n",
    "\n",
    "# teste rápido\n",
    "print(\"Engine criado:\", engine)\n"
   ]
  },
  {
   "cell_type": "code",
   "execution_count": 57,
   "metadata": {},
   "outputs": [
    {
     "name": "stdout",
     "output_type": "stream",
     "text": [
      "Modelo SalaryRecord definido / tabelas criadas.\n"
     ]
    }
   ],
   "source": [
    "# Célula 2 — modelo ORM (opcional se você já tem)\n",
    "from sqlalchemy import Column, Integer, String, Float, Date, Enum\n",
    "import enum\n",
    "\n",
    "Base = declarative_base()\n",
    "\n",
    "class SexEnum(enum.Enum):\n",
    "    M = \"M\"\n",
    "    F = \"F\"\n",
    "\n",
    "# simplifiquei os enums — adicione mais se necessário\n",
    "class DesignationEnum(enum.Enum):\n",
    "    Analyst = \"Analyst\"\n",
    "    Senior_Analyst = \"Senior Analyst\"\n",
    "    Manager = \"Manager\"\n",
    "\n",
    "class UnitEnum(enum.Enum):\n",
    "    IT = \"IT\"\n",
    "    Finance = \"Finance\"\n",
    "    Marketing = \"Marketing\"\n",
    "\n",
    "class SalaryRecord(Base):\n",
    "    __tablename__ = 'salary_records'   # <--- certifique-se que bate com o nome usado no DB\n",
    "    id = Column(Integer, primary_key=True, autoincrement=True)\n",
    "    first_name = Column(String)\n",
    "    last_name = Column(String)\n",
    "    sex = Column(String)          # coloquei String para evitar problemas com Enum ao inserir via to_sql\n",
    "    doj = Column(Date)\n",
    "    current_date = Column(Date)\n",
    "    designation = Column(String)\n",
    "    age = Column(Integer)\n",
    "    salary = Column(Float)\n",
    "    unit = Column(String)\n",
    "    leaves_used = Column(Integer)\n",
    "    leaves_remaining = Column(Integer)\n",
    "    ratings = Column(Float)\n",
    "    past_exp = Column(Float)\n",
    "\n",
    "# só cria as tabelas se quiser garantir (não sobrescreve se já existirem)\n",
    "Base.metadata.create_all(engine)\n",
    "print(\"Modelo SalaryRecord definido / tabelas criadas.\")\n"
   ]
  },
  {
   "cell_type": "code",
   "execution_count": 59,
   "metadata": {},
   "outputs": [
    {
     "name": "stdout",
     "output_type": "stream",
     "text": [
      "Contagem atual na tabela: 2639\n",
      "\n",
      "Preview (5 linhas):\n",
      "   id first_name   last_name sex                         doj  \\\n",
      "0   1     TOMASA       ARMEN   F  2014-05-18 00:00:00.000000   \n",
      "1   2      ANNIE        None   F                        None   \n",
      "2   3      OLIVE        ANCY   F  2014-07-28 00:00:00.000000   \n",
      "3   4     CHERRY     AQUILAR   F  2013-04-03 00:00:00.000000   \n",
      "4   5       LEON  ABOULAHOUD   M  2014-11-20 00:00:00.000000   \n",
      "\n",
      "                 current_date designation   age   salary        unit  \\\n",
      "0  2016-01-07 00:00:00.000000     Analyst  21.0  44570.0     Finance   \n",
      "1  2016-01-07 00:00:00.000000   Associate   NaN  89207.0         Web   \n",
      "2  2016-01-07 00:00:00.000000     Analyst  21.0  40955.0     Finance   \n",
      "3  2016-01-07 00:00:00.000000     Analyst  22.0  45550.0          IT   \n",
      "4  2016-01-07 00:00:00.000000     Analyst   NaN  43161.0  Operations   \n",
      "\n",
      "   leaves_used  leaves_remaining  ratings  past_exp  \n",
      "0         24.0                 6      2.0       0.0  \n",
      "1          NaN                13      NaN       7.0  \n",
      "2         23.0                 7      3.0       0.0  \n",
      "3         22.0                 8      3.0       0.0  \n",
      "4         27.0                 3      NaN       3.0  \n"
     ]
    }
   ],
   "source": [
    "# Célula 3 — checar contagem / preview da tabela\n",
    "table = 'salary_records'   # ajuste se seu nome for diferente\n",
    "try:\n",
    "    df_preview = pd.read_sql_query(f\"SELECT COUNT(*) AS cnt FROM {table}\", engine)\n",
    "    print(\"Contagem atual na tabela:\", int(df_preview['cnt'].iloc[0]))\n",
    "    print(\"\\nPreview (5 linhas):\")\n",
    "    print(pd.read_sql_query(f\"SELECT * FROM {table} LIMIT 5\", engine))\n",
    "except Exception as e:\n",
    "    print(\"Erro ao acessar a tabela — talvez ela não exista ou o nome esteja diferente.\")\n",
    "    print(\"Detalhe:\", e)\n"
   ]
  },
  {
   "cell_type": "code",
   "execution_count": 63,
   "metadata": {},
   "outputs": [
    {
     "name": "stdout",
     "output_type": "stream",
     "text": [
      "      designation  salario_min_mensal  salario_max_mensal  \\\n",
      "0         Analyst         3333.416667         4165.000000   \n",
      "1       Associate         5846.166667         8300.250000   \n",
      "2        Director        17832.250000        32342.666667   \n",
      "3         Manager         8343.666667        12407.500000   \n",
      "4  Senior Analyst         4170.333333         5830.500000   \n",
      "5  Senior Manager        12614.416667        16631.416667   \n",
      "\n",
      "   salario_medio_mensal  \n",
      "0           3751.675988  \n",
      "1           7266.915094  \n",
      "2          23914.265625  \n",
      "3          10522.716049  \n",
      "4           4991.778792  \n",
      "5          14888.689516  \n"
     ]
    }
   ],
   "source": [
    "# Forma C: ORM select() + Session\n",
    "from sqlalchemy import select, func\n",
    "from sqlalchemy.orm import Session\n",
    "\n",
    "with Session(engine) as session:\n",
    "    stmt = (\n",
    "        select(\n",
    "            SalaryRecord.designation,\n",
    "            func.min(SalaryRecord.salary / 12.0).label(\"salario_min_mensal\"),\n",
    "            func.max(SalaryRecord.salary / 12.0).label(\"salario_max_mensal\"),\n",
    "            func.avg(SalaryRecord.salary / 12.0).label(\"salario_medio_mensal\")\n",
    "        )\n",
    "        .group_by(SalaryRecord.designation)\n",
    "        .order_by(SalaryRecord.designation)\n",
    "    )\n",
    "    result = session.execute(stmt).all()\n",
    "\n",
    "# transformar em DataFrame\n",
    "df_c = pd.DataFrame(result, columns=[\"designation\",\"salario_min_mensal\",\"salario_max_mensal\",\"salario_medio_mensal\"])\n",
    "print(df_c)\n"
   ]
  }
 ],
 "metadata": {
  "kernelspec": {
   "display_name": "Python [conda env:py311_numpy124]",
   "language": "python",
   "name": "conda-env-py311_numpy124-py"
  },
  "language_info": {
   "codemirror_mode": {
    "name": "ipython",
    "version": 3
   },
   "file_extension": ".py",
   "mimetype": "text/x-python",
   "name": "python",
   "nbconvert_exporter": "python",
   "pygments_lexer": "ipython3",
   "version": "3.11.13"
  }
 },
 "nbformat": 4,
 "nbformat_minor": 4
}
