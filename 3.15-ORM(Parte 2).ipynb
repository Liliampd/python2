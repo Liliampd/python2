{
 "cells": [
  {
   "cell_type": "markdown",
   "metadata": {},
   "source": [
    "## Exercícios\n",
    "\n",
    "> Retirados de [learn-python: sqlalchemy_orm-questions](https://aviadr1.github.io/learn-advanced-python/11_db_access/exercise/sqlalchemy_orm-questions.html).\n",
    "\n",
    "#### Q1.\n",
    "\n",
    "Baixa e extraia o arquivo compactado com o banco de dados [Chinook database](https://www.sqlitetutorial.net/sqlite-sample-database/). Salve o arquivo `chinook.db` na mesma pasta deste script.\n",
    "* Link para baixar: http://www.sqlitetutorial.net/wp-content/uploads/2018/03/chinook.zip\n",
    "\n",
    "<img width=500 src=https://www.sqlitetutorial.net/wp-content/uploads/2015/11/sqlite-sample-database-color.jpg>\n"
   ]
  },
  {
   "cell_type": "code",
   "execution_count": 1,
   "metadata": {},
   "outputs": [],
   "source": [
    "!pip install \"SQLAlchemy>=2,<3\" --quiet\n"
   ]
  },
  {
   "cell_type": "code",
   "execution_count": 3,
   "metadata": {},
   "outputs": [
    {
     "name": "stdout",
     "output_type": "stream",
     "text": [
      "Tabelas mapeadas: ['genres', 'playlists', 'customers', 'albums', 'media_types', 'artists', 'invoice_items', 'employees', 'tracks', 'invoices']\n"
     ]
    }
   ],
   "source": [
    "from sqlalchemy import create_engine, select, func\n",
    "from sqlalchemy.orm import Session\n",
    "from sqlalchemy.ext.automap import automap_base\n",
    "\n",
    "# se o .db está na mesma pasta do notebook, esse caminho funciona:\n",
    "engine = create_engine(\"sqlite:///chinook.db\", echo=False)\n",
    "\n",
    "Base = automap_base()\n",
    "Base.prepare(autoload_with=engine)  # reflete as tabelas existentes\n",
    "\n",
    "print(\"Tabelas mapeadas:\", list(Base.classes.keys()))\n"
   ]
  },
  {
   "cell_type": "markdown",
   "metadata": {},
   "source": [
    "#### Q2.\n",
    "\n",
    "Leia o código e os comentários das células a seguir para entender como acessamos os modelos ORM de um banco já existente."
   ]
  },
  {
   "cell_type": "code",
   "execution_count": 5,
   "metadata": {},
   "outputs": [
    {
     "name": "stdout",
     "output_type": "stream",
     "text": [
      "OK! Classes e colunas detectadas.\n"
     ]
    }
   ],
   "source": [
    "def get_model(Base, *candidates):\n",
    "    for name in candidates:\n",
    "        try:\n",
    "            return getattr(Base.classes, name)\n",
    "        except AttributeError:\n",
    "            pass\n",
    "    raise AttributeError(f\"Não encontrei nenhuma dessas classes: {candidates}\")\n",
    "\n",
    "def col(model, *candidates):\n",
    "    cols = model.__table__.c\n",
    "    for name in candidates:\n",
    "        if name in cols:\n",
    "            return cols[name]\n",
    "    raise KeyError(f\"Coluna não encontrada em {model.__name__}: {candidates}\")\n",
    "\n",
    "# tabelas (aceita plural/singular dependendo da versão do Chinook)\n",
    "Tracks       = get_model(Base, \"tracks\", \"Track\")\n",
    "Albums       = get_model(Base, \"albums\", \"Album\")\n",
    "Artists      = get_model(Base, \"artists\", \"Artist\")\n",
    "InvoiceItems = get_model(Base, \"invoice_items\", \"InvoiceLine\", \"InvoiceItems\", \"invoiceline\")\n",
    "\n",
    "# colunas (variam entre camel case e snake case)\n",
    "t_id       = col(Tracks, \"track_id\", \"TrackId\")\n",
    "t_name     = col(Tracks, \"name\", \"Name\")\n",
    "t_album_id = col(Tracks, \"album_id\", \"AlbumId\")\n",
    "\n",
    "al_id      = col(Albums, \"album_id\", \"AlbumId\")\n",
    "al_title   = col(Albums, \"title\", \"Title\")\n",
    "al_art_id  = col(Albums, \"artist_id\", \"ArtistId\")\n",
    "\n",
    "ar_id      = col(Artists, \"artist_id\", \"ArtistId\")\n",
    "ar_name    = col(Artists, \"name\", \"Name\")\n",
    "\n",
    "ii_track   = col(InvoiceItems, \"track_id\", \"TrackId\")\n",
    "ii_qty     = col(InvoiceItems, \"quantity\", \"Quantity\")\n",
    "ii_price   = col(InvoiceItems, \"unit_price\", \"UnitPrice\")\n",
    "ii_id      = col(InvoiceItems, \"invoice_item_id\", \"InvoiceLineId\", \"InvoiceItemId\")\n",
    "\n",
    "print(\"OK! Classes e colunas detectadas.\")\n"
   ]
  },
  {
   "cell_type": "code",
   "execution_count": 7,
   "metadata": {
    "vscode": {
     "languageId": "plaintext"
    }
   },
   "outputs": [
    {
     "name": "stdout",
     "output_type": "stream",
     "text": [
      "albums\n",
      "['AlbumId', 'Title', 'ArtistId']\n",
      "[('AlbumId', Column('AlbumId', INTEGER(), table=<albums>, primary_key=True, nullable=False)), ('Title', Column('Title', NVARCHAR(length=160), table=<albums>, nullable=False)), ('ArtistId', Column('ArtistId', INTEGER(), ForeignKey('artists.ArtistId'), table=<albums>, nullable=False))]\n",
      "-------------------------\n",
      "artists\n",
      "['ArtistId', 'Name']\n",
      "[('ArtistId', Column('ArtistId', INTEGER(), table=<artists>, primary_key=True, nullable=False)), ('Name', Column('Name', NVARCHAR(length=120), table=<artists>))]\n",
      "-------------------------\n",
      "customers\n",
      "['CustomerId', 'FirstName', 'LastName', 'Company', 'Address', 'City', 'State', 'Country', 'PostalCode', 'Phone', 'Fax', 'Email', 'SupportRepId']\n",
      "[('CustomerId', Column('CustomerId', INTEGER(), table=<customers>, primary_key=True, nullable=False)), ('FirstName', Column('FirstName', NVARCHAR(length=40), table=<customers>, nullable=False)), ('LastName', Column('LastName', NVARCHAR(length=20), table=<customers>, nullable=False)), ('Company', Column('Company', NVARCHAR(length=80), table=<customers>)), ('Address', Column('Address', NVARCHAR(length=70), table=<customers>)), ('City', Column('City', NVARCHAR(length=40), table=<customers>)), ('State', Column('State', NVARCHAR(length=40), table=<customers>)), ('Country', Column('Country', NVARCHAR(length=40), table=<customers>)), ('PostalCode', Column('PostalCode', NVARCHAR(length=10), table=<customers>)), ('Phone', Column('Phone', NVARCHAR(length=24), table=<customers>)), ('Fax', Column('Fax', NVARCHAR(length=24), table=<customers>)), ('Email', Column('Email', NVARCHAR(length=60), table=<customers>, nullable=False)), ('SupportRepId', Column('SupportRepId', INTEGER(), ForeignKey('employees.EmployeeId'), table=<customers>))]\n",
      "-------------------------\n",
      "employees\n",
      "['EmployeeId', 'LastName', 'FirstName', 'Title', 'ReportsTo', 'BirthDate', 'HireDate', 'Address', 'City', 'State', 'Country', 'PostalCode', 'Phone', 'Fax', 'Email']\n",
      "[('EmployeeId', Column('EmployeeId', INTEGER(), table=<employees>, primary_key=True, nullable=False)), ('LastName', Column('LastName', NVARCHAR(length=20), table=<employees>, nullable=False)), ('FirstName', Column('FirstName', NVARCHAR(length=20), table=<employees>, nullable=False)), ('Title', Column('Title', NVARCHAR(length=30), table=<employees>)), ('ReportsTo', Column('ReportsTo', INTEGER(), ForeignKey('employees.EmployeeId'), table=<employees>)), ('BirthDate', Column('BirthDate', DATETIME(), table=<employees>)), ('HireDate', Column('HireDate', DATETIME(), table=<employees>)), ('Address', Column('Address', NVARCHAR(length=70), table=<employees>)), ('City', Column('City', NVARCHAR(length=40), table=<employees>)), ('State', Column('State', NVARCHAR(length=40), table=<employees>)), ('Country', Column('Country', NVARCHAR(length=40), table=<employees>)), ('PostalCode', Column('PostalCode', NVARCHAR(length=10), table=<employees>)), ('Phone', Column('Phone', NVARCHAR(length=24), table=<employees>)), ('Fax', Column('Fax', NVARCHAR(length=24), table=<employees>)), ('Email', Column('Email', NVARCHAR(length=60), table=<employees>))]\n",
      "-------------------------\n",
      "genres\n",
      "['GenreId', 'Name']\n",
      "[('GenreId', Column('GenreId', INTEGER(), table=<genres>, primary_key=True, nullable=False)), ('Name', Column('Name', NVARCHAR(length=120), table=<genres>))]\n",
      "-------------------------\n",
      "invoice_items\n",
      "['InvoiceLineId', 'InvoiceId', 'TrackId', 'UnitPrice', 'Quantity']\n",
      "[('InvoiceLineId', Column('InvoiceLineId', INTEGER(), table=<invoice_items>, primary_key=True, nullable=False)), ('InvoiceId', Column('InvoiceId', INTEGER(), ForeignKey('invoices.InvoiceId'), table=<invoice_items>, nullable=False)), ('TrackId', Column('TrackId', INTEGER(), ForeignKey('tracks.TrackId'), table=<invoice_items>, nullable=False)), ('UnitPrice', Column('UnitPrice', NUMERIC(precision=10, scale=2), table=<invoice_items>, nullable=False)), ('Quantity', Column('Quantity', INTEGER(), table=<invoice_items>, nullable=False))]\n",
      "-------------------------\n",
      "tracks\n",
      "['TrackId', 'Name', 'AlbumId', 'MediaTypeId', 'GenreId', 'Composer', 'Milliseconds', 'Bytes', 'UnitPrice']\n",
      "[('TrackId', Column('TrackId', INTEGER(), table=<tracks>, primary_key=True, nullable=False)), ('Name', Column('Name', NVARCHAR(length=200), table=<tracks>, nullable=False)), ('AlbumId', Column('AlbumId', INTEGER(), ForeignKey('albums.AlbumId'), table=<tracks>)), ('MediaTypeId', Column('MediaTypeId', INTEGER(), ForeignKey('media_types.MediaTypeId'), table=<tracks>, nullable=False)), ('GenreId', Column('GenreId', INTEGER(), ForeignKey('genres.GenreId'), table=<tracks>)), ('Composer', Column('Composer', NVARCHAR(length=220), table=<tracks>)), ('Milliseconds', Column('Milliseconds', INTEGER(), table=<tracks>, nullable=False)), ('Bytes', Column('Bytes', INTEGER(), table=<tracks>)), ('UnitPrice', Column('UnitPrice', NUMERIC(precision=10, scale=2), table=<tracks>, nullable=False))]\n",
      "-------------------------\n",
      "media_types\n",
      "['MediaTypeId', 'Name']\n",
      "[('MediaTypeId', Column('MediaTypeId', INTEGER(), table=<media_types>, primary_key=True, nullable=False)), ('Name', Column('Name', NVARCHAR(length=120), table=<media_types>))]\n",
      "-------------------------\n",
      "invoices\n",
      "['InvoiceId', 'CustomerId', 'InvoiceDate', 'BillingAddress', 'BillingCity', 'BillingState', 'BillingCountry', 'BillingPostalCode', 'Total']\n",
      "[('InvoiceId', Column('InvoiceId', INTEGER(), table=<invoices>, primary_key=True, nullable=False)), ('CustomerId', Column('CustomerId', INTEGER(), ForeignKey('customers.CustomerId'), table=<invoices>, nullable=False)), ('InvoiceDate', Column('InvoiceDate', DATETIME(), table=<invoices>, nullable=False)), ('BillingAddress', Column('BillingAddress', NVARCHAR(length=70), table=<invoices>)), ('BillingCity', Column('BillingCity', NVARCHAR(length=40), table=<invoices>)), ('BillingState', Column('BillingState', NVARCHAR(length=40), table=<invoices>)), ('BillingCountry', Column('BillingCountry', NVARCHAR(length=40), table=<invoices>)), ('BillingPostalCode', Column('BillingPostalCode', NVARCHAR(length=10), table=<invoices>)), ('Total', Column('Total', NUMERIC(precision=10, scale=2), table=<invoices>, nullable=False))]\n",
      "-------------------------\n",
      "playlist_track\n",
      "['PlaylistId', 'TrackId']\n",
      "[('PlaylistId', Column('PlaylistId', INTEGER(), ForeignKey('playlists.PlaylistId'), table=<playlist_track>, primary_key=True, nullable=False)), ('TrackId', Column('TrackId', INTEGER(), ForeignKey('tracks.TrackId'), table=<playlist_track>, primary_key=True, nullable=False))]\n",
      "-------------------------\n",
      "playlists\n",
      "['PlaylistId', 'Name']\n",
      "[('PlaylistId', Column('PlaylistId', INTEGER(), table=<playlists>, primary_key=True, nullable=False)), ('Name', Column('Name', NVARCHAR(length=120), table=<playlists>))]\n",
      "-------------------------\n",
      "[('genres', <class 'sqlalchemy.ext.automap.genres'>), ('playlists', <class 'sqlalchemy.ext.automap.playlists'>), ('customers', <class 'sqlalchemy.ext.automap.customers'>), ('albums', <class 'sqlalchemy.ext.automap.albums'>), ('media_types', <class 'sqlalchemy.ext.automap.media_types'>), ('artists', <class 'sqlalchemy.ext.automap.artists'>), ('invoice_items', <class 'sqlalchemy.ext.automap.invoice_items'>), ('employees', <class 'sqlalchemy.ext.automap.employees'>), ('tracks', <class 'sqlalchemy.ext.automap.tracks'>), ('invoices', <class 'sqlalchemy.ext.automap.invoices'>)]\n"
     ]
    }
   ],
   "source": [
    "from sqlalchemy import create_engine, text, MetaData\n",
    "from sqlalchemy.orm import Session\n",
    "\n",
    "engine = create_engine(\"sqlite+pysqlite:///chinook.db\", echo=False)\n",
    "\n",
    "### extrai as classes da base de dados Chinook\n",
    "metadata = MetaData()\n",
    "metadata.reflect(engine)\n",
    "\n",
    "# O metadata tem informações sobre as tabelas\n",
    "# que serão usadas para criar os modelos ORM\n",
    "for table_name, table in metadata.tables.items():\n",
    "    print(table_name)\n",
    "    print(table.columns.keys())\n",
    "    print(table.columns.items())\n",
    "    print('-'*25)\n",
    "\n",
    "### configura o objeto Base mapeando os modelos ORM das tabelas\n",
    "from sqlalchemy.ext.automap import automap_base\n",
    "Base = automap_base(metadata=metadata)\n",
    "Base.prepare()\n",
    "\n",
    "# o objeto Base tem os modelos ORM que podemos usar\n",
    "# para manipular o banco de dados\n",
    "print(Base.classes.items())"
   ]
  },
  {
   "cell_type": "code",
   "execution_count": 9,
   "metadata": {
    "vscode": {
     "languageId": "plaintext"
    }
   },
   "outputs": [
    {
     "name": "stdout",
     "output_type": "stream",
     "text": [
      "1 For Those About To Rock We Salute You\n"
     ]
    }
   ],
   "source": [
    "# A seguir um exemplo de query na tabela Albums\n",
    "# usamos o objeto Base para acessar cada modelo ORM.\n",
    "\n",
    "session = Session(engine)\n",
    "res = session.scalars(select(Base.classes.albums))\n",
    "first_album = res.first()\n",
    "print(first_album.AlbumId, first_album.Title)"
   ]
  },
  {
   "cell_type": "code",
   "execution_count": 11,
   "metadata": {},
   "outputs": [
    {
     "data": {
      "text/plain": [
       "<sqlalchemy.orm.session.Session at 0x1f476571990>"
      ]
     },
     "execution_count": 11,
     "metadata": {},
     "output_type": "execute_result"
    }
   ],
   "source": [
    "session = Session(engine)\n",
    "session\n"
   ]
  },
  {
   "cell_type": "markdown",
   "metadata": {},
   "source": [
    "#### Q3. \n",
    "Com base nos códigos anteriores realize as operações solicitadas nas células a seguir:\n"
   ]
  },
  {
   "cell_type": "code",
   "execution_count": 13,
   "metadata": {
    "vscode": {
     "languageId": "plaintext"
    }
   },
   "outputs": [
    {
     "name": "stdout",
     "output_type": "stream",
     "text": [
      "TrackId=1, Name=For Those About To Rock (We Salute You)\n",
      "TrackId=2, Name=Balls to the Wall\n",
      "TrackId=3, Name=Fast As a Shark\n"
     ]
    }
   ],
   "source": [
    "### Imprima os três primeiros registros da tabela tracks\n",
    "\n",
    "stmt = select(Tracks).limit(3)\n",
    "for row in session.execute(stmt).scalars():\n",
    "    print(f\"TrackId={getattr(row, t_id.key)}, Name={getattr(row, t_name.key)}\")\n"
   ]
  },
  {
   "cell_type": "code",
   "execution_count": 15,
   "metadata": {
    "vscode": {
     "languageId": "plaintext"
    }
   },
   "outputs": [
    {
     "name": "stdout",
     "output_type": "stream",
     "text": [
      "For Those About To Rock (We Salute You)  —  For Those About To Rock We Salute You\n",
      "Put The Finger On You  —  For Those About To Rock We Salute You\n",
      "Let's Get It Up  —  For Those About To Rock We Salute You\n",
      "Inject The Venom  —  For Those About To Rock We Salute You\n",
      "Snowballed  —  For Those About To Rock We Salute You\n",
      "Evil Walks  —  For Those About To Rock We Salute You\n",
      "C.O.D.  —  For Those About To Rock We Salute You\n",
      "Breaking The Rules  —  For Those About To Rock We Salute You\n",
      "Night Of The Long Knives  —  For Those About To Rock We Salute You\n",
      "Spellbound  —  For Those About To Rock We Salute You\n",
      "Balls to the Wall  —  Balls to the Wall\n",
      "Fast As a Shark  —  Restless and Wild\n",
      "Restless and Wild  —  Restless and Wild\n",
      "Princess of the Dawn  —  Restless and Wild\n",
      "Go Down  —  Let There Be Rock\n",
      "Dog Eat Dog  —  Let There Be Rock\n",
      "Let There Be Rock  —  Let There Be Rock\n",
      "Bad Boy Boogie  —  Let There Be Rock\n",
      "Problem Child  —  Let There Be Rock\n",
      "Overdose  —  Let There Be Rock\n"
     ]
    }
   ],
   "source": [
    "### Imprima o nome da faixa e o título do álbum das primeiras 20 faixas na tabela tracks.\n",
    "\n",
    "# Célula 6 — Nome da faixa + título do álbum (20 primeiras)\n",
    "stmt = (\n",
    "    select(t_name, al_title)\n",
    "    .select_from(Tracks)\n",
    "    .join(Albums, t_album_id == al_id)\n",
    "    .limit(20)\n",
    ")\n",
    "for name, album_title in session.execute(stmt):\n",
    "    print(f\"{name}  —  {album_title}\")\n"
   ]
  },
  {
   "cell_type": "code",
   "execution_count": 17,
   "metadata": {
    "vscode": {
     "languageId": "plaintext"
    }
   },
   "outputs": [
    {
     "name": "stdout",
     "output_type": "stream",
     "text": [
      "ItemId=1 | TrackId=2 | Qty=1 | UnitPrice=0.99\n",
      "ItemId=2 | TrackId=4 | Qty=1 | UnitPrice=0.99\n",
      "ItemId=3 | TrackId=6 | Qty=1 | UnitPrice=0.99\n",
      "ItemId=4 | TrackId=8 | Qty=1 | UnitPrice=0.99\n",
      "ItemId=5 | TrackId=10 | Qty=1 | UnitPrice=0.99\n",
      "ItemId=6 | TrackId=12 | Qty=1 | UnitPrice=0.99\n",
      "ItemId=7 | TrackId=16 | Qty=1 | UnitPrice=0.99\n",
      "ItemId=8 | TrackId=20 | Qty=1 | UnitPrice=0.99\n",
      "ItemId=9 | TrackId=24 | Qty=1 | UnitPrice=0.99\n",
      "ItemId=10 | TrackId=28 | Qty=1 | UnitPrice=0.99\n"
     ]
    }
   ],
   "source": [
    "### Imprima as 10 primeiras vendas de faixas da tabela invoice_items\n",
    "### Para essas 10 primeiras vendas, imprima os nomes das faixas vendidas e a quantidade vendida.\n",
    "# Célula 7 — 10 primeiras linhas de venda\n",
    "stmt = select(InvoiceItems).limit(10)\n",
    "for ii in session.execute(stmt).scalars():\n",
    "    print(\n",
    "        f\"ItemId={getattr(ii, ii_id.key)} | TrackId={getattr(ii, ii_track.key)} \"\n",
    "        f\"| Qty={getattr(ii, ii_qty.key)} | UnitPrice={getattr(ii, ii_price.key)}\"\n",
    "    )\n"
   ]
  },
  {
   "cell_type": "code",
   "execution_count": 19,
   "metadata": {
    "vscode": {
     "languageId": "plaintext"
    }
   },
   "outputs": [
    {
     "name": "stdout",
     "output_type": "stream",
     "text": [
      "Balls to the Wall — Qty 1\n",
      "Restless and Wild — Qty 1\n",
      "Put The Finger On You — Qty 1\n",
      "Inject The Venom — Qty 1\n",
      "Evil Walks — Qty 1\n",
      "Breaking The Rules — Qty 1\n",
      "Dog Eat Dog — Qty 1\n",
      "Overdose — Qty 1\n",
      "Love In An Elevator — Qty 1\n",
      "Janie's Got A Gun — Qty 1\n"
     ]
    }
   ],
   "source": [
    "### Imprima os nomes das 10 faixas mais vendidas e quantas vezes foram vendidas.\n",
    "# Célula 8 — Nome da faixa e quantidade (10 primeiras vendas)\n",
    "stmt = (\n",
    "    select(t_name, ii_qty)\n",
    "    .select_from(InvoiceItems)\n",
    "    .join(Tracks, ii_track == t_id)\n",
    "    .limit(10)\n",
    ")\n",
    "for name, qty in session.execute(stmt):\n",
    "    print(f\"{name} — Qty {qty}\")\n"
   ]
  },
  {
   "cell_type": "code",
   "execution_count": 21,
   "metadata": {},
   "outputs": [
    {
     "name": "stdout",
     "output_type": "stream",
     "text": [
      "Balls to the Wall — 2 vendas\n",
      "Inject The Venom — 2 vendas\n",
      "Snowballed — 2 vendas\n",
      "Overdose — 2 vendas\n",
      "Deuces Are Wild — 2 vendas\n",
      "Not The Doctor — 2 vendas\n",
      "Por Causa De Você — 2 vendas\n",
      "Welcome Home (Sanitarium) — 2 vendas\n",
      "Snowblind — 2 vendas\n",
      "Cornucopia — 2 vendas\n"
     ]
    }
   ],
   "source": [
    "# Célula 9 — Top 10 faixas por quantidade vendida\n",
    "stmt = (\n",
    "    select(t_name.label(\"faixa\"), func.sum(ii_qty).label(\"qtd\"))\n",
    "    .select_from(InvoiceItems)\n",
    "    .join(Tracks, ii_track == t_id)\n",
    "    .group_by(t_id, t_name)\n",
    "    .order_by(func.sum(ii_qty).desc())\n",
    "    .limit(10)\n",
    ")\n",
    "for faixa, qtd in session.execute(stmt):\n",
    "    print(f\"{faixa} — {qtd} vendas\")\n"
   ]
  },
  {
   "cell_type": "code",
   "execution_count": 23,
   "metadata": {
    "vscode": {
     "languageId": "plaintext"
    }
   },
   "outputs": [
    {
     "name": "stdout",
     "output_type": "stream",
     "text": [
      "Iron Maiden — 140 vendas\n",
      "U2 — 107 vendas\n",
      "Metallica — 91 vendas\n",
      "Led Zeppelin — 87 vendas\n",
      "Os Paralamas Do Sucesso — 45 vendas\n",
      "Deep Purple — 44 vendas\n",
      "Faith No More — 42 vendas\n",
      "Lost — 41 vendas\n",
      "Eric Clapton — 40 vendas\n",
      "R.E.M. — 39 vendas\n"
     ]
    }
   ],
   "source": [
    "### Quem são os 10 artistas que mais venderam?\n",
    "### dica: você precisa juntar as tabelas invoice_items, tracks, albums e artists\n",
    "# Célula 10 — Top 10 artistas por quantidade vendida\n",
    "stmt = (\n",
    "    select(ar_name.label(\"artista\"), func.sum(ii_qty).label(\"qtd\"))\n",
    "    .select_from(InvoiceItems)\n",
    "    .join(Tracks, ii_track == t_id)\n",
    "    .join(Albums, t_album_id == al_id)\n",
    "    .join(Artists, al_art_id == ar_id)\n",
    "    .group_by(ar_id, ar_name)\n",
    "    .order_by(func.sum(ii_qty).desc())\n",
    "    .limit(10)\n",
    ")\n",
    "for artista, qtd in session.execute(stmt):\n",
    "    print(f\"{artista} — {qtd} vendas\")\n"
   ]
  },
  {
   "cell_type": "code",
   "execution_count": null,
   "metadata": {},
   "outputs": [],
   "source": []
  }
 ],
 "metadata": {
  "kernelspec": {
   "display_name": "Python [conda env:py311_numpy124]",
   "language": "python",
   "name": "conda-env-py311_numpy124-py"
  },
  "language_info": {
   "codemirror_mode": {
    "name": "ipython",
    "version": 3
   },
   "file_extension": ".py",
   "mimetype": "text/x-python",
   "name": "python",
   "nbconvert_exporter": "python",
   "pygments_lexer": "ipython3",
   "version": "3.11.13"
  }
 },
 "nbformat": 4,
 "nbformat_minor": 4
}
